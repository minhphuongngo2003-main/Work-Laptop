{
 "cells": [
  {
   "cell_type": "code",
   "execution_count": 2,
   "id": "ecaba18d",
   "metadata": {},
   "outputs": [],
   "source": [
    "from vnstock import Vnstock\n",
    "from vnstock import Company\n",
    "import pandas as pd"
   ]
  },
  {
   "cell_type": "code",
   "execution_count": 3,
   "id": "35d09a4a",
   "metadata": {},
   "outputs": [
    {
     "data": {
      "application/vnd.microsoft.datawrangler.viewer.v0+json": {
       "columns": [
        {
         "name": "index",
         "rawType": "int64",
         "type": "integer"
        },
        {
         "name": "id",
         "rawType": "object",
         "type": "string"
        },
        {
         "name": "share_holder",
         "rawType": "object",
         "type": "string"
        },
        {
         "name": "quantity",
         "rawType": "int64",
         "type": "integer"
        },
        {
         "name": "share_own_percent",
         "rawType": "float64",
         "type": "float"
        },
        {
         "name": "update_date",
         "rawType": "datetime64[ns]",
         "type": "datetime"
        }
       ],
       "ref": "530e021e-9d95-4ef6-8d00-e0d9718a44df",
       "rows": [
        [
         "0",
         "86985908",
         "Trương Gia Bình",
         "102041710",
         "0.0689",
         "2025-08-12 00:00:00"
        ],
        [
         "1",
         "86982406",
         "Tổng Công ty Đầu Tư Và Kinh Doanh Vốn Nhà Nước - Công ty TNHH",
         "83987511",
         "0.0567",
         "2025-08-12 00:00:00"
        ],
        [
         "2",
         "86981351",
         "Red River Holding",
         "21041999",
         "0.0458",
         "2024-05-06 00:00:00"
        ],
        [
         "3",
         "86959297",
         "Công ty TNHH Qt",
         "54303923",
         "0.0369",
         "2025-04-02 00:00:00"
        ],
        [
         "4",
         "86960779",
         "Deutsche Bank Aktiengesellchaft, London Branch",
         "9604598",
         "0.0241605875",
         "2015-06-15 00:00:00"
        ],
        [
         "5",
         "86957863",
         "Công ty Cổ phần Quản Lý Quỹ Đầu Tư Dragon Capital Việt Nam",
         "25097634",
         "0.0198",
         "2025-04-02 00:00:00"
        ],
        [
         "6",
         "86968533",
         "Ngân hàng Deutsche Aktiengesellschaft",
         "7354242",
         "0.01849977",
         "2025-03-10 00:00:00"
        ],
        [
         "7",
         "86981520",
         "Stichting Depositary Apg Emerging Markets Equity Pool",
         "21115647",
         "0.0166",
         "2025-04-02 00:00:00"
        ],
        [
         "8",
         "86986779",
         "Vinacapital Vietnam Opportunity Fund Ltd.",
         "22791922",
         "0.0155",
         "2025-04-02 00:00:00"
        ],
        [
         "9",
         "86955567",
         "Bùi Quang Ngọc",
         "21961492",
         "0.0148",
         "2025-08-12 00:00:00"
        ],
        [
         "10",
         "86986138",
         "Trương Thị Thanh Thanh",
         "21822466",
         "0.0147",
         "2025-08-12 00:00:00"
        ],
        [
         "11",
         "86963368",
         "Hoàng Minh Châu",
         "5610790",
         "0.0141169968",
         "2015-09-14 00:00:00"
        ],
        [
         "12",
         "86959648",
         "CTBC Vietnam Equity Fund",
         "17458000",
         "0.0137",
         "2025-04-02 00:00:00"
        ],
        [
         "13",
         "86980084",
         "Phan Ngô Tống Hưng",
         "5344531",
         "0.0134470773",
         "2015-09-14 00:00:00"
        ],
        [
         "14",
         "86981469",
         "Schroder International Selection Fund",
         "19460017",
         "0.0132",
         "2025-04-02 00:00:00"
        ],
        [
         "15",
         "86968165",
         "Macquarie Bank Limited Obu",
         "17107235",
         "0.0116",
         "2025-04-02 00:00:00"
        ],
        [
         "16",
         "86986697",
         "Vietnam Holding Ltd",
         "8557812",
         "0.0109168978",
         "2020-07-14 00:00:00"
        ],
        [
         "17",
         "86977857",
         "Ntasian Discovery Master Fund",
         "16000000",
         "0.0109",
         "2025-04-02 00:00:00"
        ],
        [
         "18",
         "86962859",
         "Government Of Singapore",
         "15162887",
         "0.0103",
         "2025-04-02 00:00:00"
        ],
        [
         "19",
         "86973069",
         "Nguyễn Thành Nam",
         "3747323",
         "0.009428431",
         "2015-09-14 00:00:00"
        ],
        [
         "20",
         "86961579",
         "Đỗ Cao Bảo",
         "13821131",
         "0.0093",
         "2025-08-12 00:00:00"
        ],
        [
         "21",
         "86986686",
         "Vietnam Equity Holding",
         "3636506",
         "0.0091477146",
         "2015-06-15 00:00:00"
        ],
        [
         "22",
         "86986638",
         "Vietnam Dragon Fund Limited",
         "3589550",
         "0.0090295957",
         "2015-06-15 00:00:00"
        ],
        [
         "23",
         "86986658",
         "Vietnam Enterprise Investments Limited",
         "9710183",
         "0.007646",
         "2023-08-30 00:00:00"
        ],
        [
         "24",
         "86980684",
         "PXP Vietnam Emerging Equity Fund",
         "4867681",
         "0.0071408",
         "2025-08-12 00:00:00"
        ],
        [
         "25",
         "86966180",
         "Lê Quang Tiến",
         "2500001",
         "0.0062901135",
         "2015-09-14 00:00:00"
        ],
        [
         "26",
         "86977825",
         "Norges Bank",
         "7501021",
         "0.005906",
         "2023-08-30 00:00:00"
        ],
        [
         "27",
         "86960718",
         "DC Developing Markets Strategies Public Limited Company",
         "7150000",
         "0.00563",
         "2023-08-30 00:00:00"
        ],
        [
         "28",
         "86988447",
         "Wareham Group Limited",
         "7085261",
         "0.005579",
         "2023-08-30 00:00:00"
        ],
        [
         "29",
         "86960756",
         "Deutsche Asset Management (Asia) Limited",
         "2190196",
         "0.0055094885",
         "2015-06-15 00:00:00"
        ],
        [
         "30",
         "86962993",
         "Hanoi Investments Holdings Limited",
         "6058066",
         "0.00477",
         "2023-08-30 00:00:00"
        ],
        [
         "31",
         "86962420",
         "Dương Dũng Triều",
         "2676629",
         "0.0044",
         "2025-08-12 00:00:00"
        ],
        [
         "32",
         "86962877",
         "Grinling International Limited",
         "4773298",
         "0.003759",
         "2023-08-30 00:00:00"
        ],
        [
         "33",
         "86973336",
         "Nguyễn Thế Phương",
         "5307647",
         "0.0036",
         "2025-08-12 00:00:00"
        ],
        [
         "34",
         "86976802",
         "Nguyễn Văn Khoa",
         "4708357",
         "0.0032",
         "2025-08-12 00:00:00"
        ],
        [
         "35",
         "86971704",
         "Nguyễn Minh Sơn",
         "993710",
         "0.0025002184",
         "2015-09-14 00:00:00"
        ],
        [
         "36",
         "86971231",
         "Nguyễn Khắc Thành",
         "1081322",
         "0.0024",
         "2025-08-12 00:00:00"
        ],
        [
         "37",
         "86963865",
         "Hoàng Việt Anh",
         "2888251",
         "0.0023",
         "2024-03-14 00:00:00"
        ],
        [
         "38",
         "86986595",
         "Venner Group Limited",
         "2682813",
         "0.002113",
         "2023-08-30 00:00:00"
        ],
        [
         "39",
         "86984075",
         "Trần Quốc Hoài",
         "782690",
         "0.0019692828",
         "2015-09-14 00:00:00"
        ],
        [
         "40",
         "86971246",
         "Nguyễn Khải Hoàn",
         "2462178",
         "0.0017",
         "2025-08-12 00:00:00"
        ],
        [
         "41",
         "86978453",
         "Phạm Minh Tuấn",
         "2572042",
         "0.0017",
         "2025-08-12 00:00:00"
        ],
        [
         "42",
         "86963402",
         "Hoàng Nam Tiến",
         "644986",
         "0.0016228134",
         "2022-05-11 00:00:00"
        ],
        [
         "43",
         "86969845",
         "Nguyễn Điệp Tùng",
         "600406",
         "0.0015106481",
         "2015-09-14 00:00:00"
        ],
        [
         "44",
         "86955210",
         "Balestrand Limited",
         "1907185",
         "0.001502",
         "2023-08-30 00:00:00"
        ],
        [
         "45",
         "86974777",
         "Nguyễn Thị Phương",
         "415250",
         "0.0010447874",
         "2015-09-14 00:00:00"
        ],
        [
         "46",
         "86966429",
         "Lê Thế Hùng",
         "328125",
         "0.001",
         "2025-08-12 00:00:00"
        ],
        [
         "47",
         "86981428",
         "Samsung Vietnam Securities Master Investment Trust",
         "1166751",
         "0.000919",
         "2023-08-30 00:00:00"
        ],
        [
         "48",
         "86981384",
         "Saigon Investments Limited",
         "768760",
         "0.0007",
         "2022-10-25 00:00:00"
        ],
        [
         "49",
         "86973586",
         "Nguyễn Thị Dư",
         "1026133",
         "0.0007",
         "2025-08-12 00:00:00"
        ]
       ],
       "shape": {
        "columns": 5,
        "rows": 83
       }
      },
      "text/html": [
       "<div>\n",
       "<style scoped>\n",
       "    .dataframe tbody tr th:only-of-type {\n",
       "        vertical-align: middle;\n",
       "    }\n",
       "\n",
       "    .dataframe tbody tr th {\n",
       "        vertical-align: top;\n",
       "    }\n",
       "\n",
       "    .dataframe thead th {\n",
       "        text-align: right;\n",
       "    }\n",
       "</style>\n",
       "<table border=\"1\" class=\"dataframe\">\n",
       "  <thead>\n",
       "    <tr style=\"text-align: right;\">\n",
       "      <th></th>\n",
       "      <th>id</th>\n",
       "      <th>share_holder</th>\n",
       "      <th>quantity</th>\n",
       "      <th>share_own_percent</th>\n",
       "      <th>update_date</th>\n",
       "    </tr>\n",
       "  </thead>\n",
       "  <tbody>\n",
       "    <tr>\n",
       "      <th>0</th>\n",
       "      <td>86985908</td>\n",
       "      <td>Trương Gia Bình</td>\n",
       "      <td>102041710</td>\n",
       "      <td>6.890000e-02</td>\n",
       "      <td>2025-08-12</td>\n",
       "    </tr>\n",
       "    <tr>\n",
       "      <th>1</th>\n",
       "      <td>86982406</td>\n",
       "      <td>Tổng Công ty Đầu Tư Và Kinh Doanh Vốn Nhà Nước...</td>\n",
       "      <td>83987511</td>\n",
       "      <td>5.670000e-02</td>\n",
       "      <td>2025-08-12</td>\n",
       "    </tr>\n",
       "    <tr>\n",
       "      <th>2</th>\n",
       "      <td>86981351</td>\n",
       "      <td>Red River Holding</td>\n",
       "      <td>21041999</td>\n",
       "      <td>4.580000e-02</td>\n",
       "      <td>2024-05-06</td>\n",
       "    </tr>\n",
       "    <tr>\n",
       "      <th>3</th>\n",
       "      <td>86959297</td>\n",
       "      <td>Công ty TNHH Qt</td>\n",
       "      <td>54303923</td>\n",
       "      <td>3.690000e-02</td>\n",
       "      <td>2025-04-02</td>\n",
       "    </tr>\n",
       "    <tr>\n",
       "      <th>4</th>\n",
       "      <td>86960779</td>\n",
       "      <td>Deutsche Bank Aktiengesellchaft, London Branch</td>\n",
       "      <td>9604598</td>\n",
       "      <td>2.416059e-02</td>\n",
       "      <td>2015-06-15</td>\n",
       "    </tr>\n",
       "    <tr>\n",
       "      <th>...</th>\n",
       "      <td>...</td>\n",
       "      <td>...</td>\n",
       "      <td>...</td>\n",
       "      <td>...</td>\n",
       "      <td>...</td>\n",
       "    </tr>\n",
       "    <tr>\n",
       "      <th>78</th>\n",
       "      <td>86956385</td>\n",
       "      <td>Chu Thị Thanh Hà</td>\n",
       "      <td>17869</td>\n",
       "      <td>4.495910e-05</td>\n",
       "      <td>2015-09-14</td>\n",
       "    </tr>\n",
       "    <tr>\n",
       "      <th>79</th>\n",
       "      <td>86955503</td>\n",
       "      <td>Bùi Ngọc Minh</td>\n",
       "      <td>26450</td>\n",
       "      <td>2.000000e-05</td>\n",
       "      <td>2024-07-31</td>\n",
       "    </tr>\n",
       "    <tr>\n",
       "      <th>80</th>\n",
       "      <td>86968311</td>\n",
       "      <td>Mai Thị Lan Anh</td>\n",
       "      <td>8009</td>\n",
       "      <td>5.400000e-06</td>\n",
       "      <td>2025-08-12</td>\n",
       "    </tr>\n",
       "    <tr>\n",
       "      <th>81</th>\n",
       "      <td>86973992</td>\n",
       "      <td>Nguyễn Thị Huế</td>\n",
       "      <td>3979</td>\n",
       "      <td>3.000000e-06</td>\n",
       "      <td>2024-07-31</td>\n",
       "    </tr>\n",
       "    <tr>\n",
       "      <th>82</th>\n",
       "      <td>86957345</td>\n",
       "      <td>Công ty Cổ phần Đầu tư và Thương mại BDM</td>\n",
       "      <td>79</td>\n",
       "      <td>1.000000e-07</td>\n",
       "      <td>2021-03-26</td>\n",
       "    </tr>\n",
       "  </tbody>\n",
       "</table>\n",
       "<p>83 rows × 5 columns</p>\n",
       "</div>"
      ],
      "text/plain": [
       "          id                                       share_holder   quantity  \\\n",
       "0   86985908                                    Trương Gia Bình  102041710   \n",
       "1   86982406  Tổng Công ty Đầu Tư Và Kinh Doanh Vốn Nhà Nước...   83987511   \n",
       "2   86981351                                  Red River Holding   21041999   \n",
       "3   86959297                                    Công ty TNHH Qt   54303923   \n",
       "4   86960779     Deutsche Bank Aktiengesellchaft, London Branch    9604598   \n",
       "..       ...                                                ...        ...   \n",
       "78  86956385                                   Chu Thị Thanh Hà      17869   \n",
       "79  86955503                                      Bùi Ngọc Minh      26450   \n",
       "80  86968311                                    Mai Thị Lan Anh       8009   \n",
       "81  86973992                                     Nguyễn Thị Huế       3979   \n",
       "82  86957345           Công ty Cổ phần Đầu tư và Thương mại BDM         79   \n",
       "\n",
       "    share_own_percent update_date  \n",
       "0        6.890000e-02  2025-08-12  \n",
       "1        5.670000e-02  2025-08-12  \n",
       "2        4.580000e-02  2024-05-06  \n",
       "3        3.690000e-02  2025-04-02  \n",
       "4        2.416059e-02  2015-06-15  \n",
       "..                ...         ...  \n",
       "78       4.495910e-05  2015-09-14  \n",
       "79       2.000000e-05  2024-07-31  \n",
       "80       5.400000e-06  2025-08-12  \n",
       "81       3.000000e-06  2024-07-31  \n",
       "82       1.000000e-07  2021-03-26  \n",
       "\n",
       "[83 rows x 5 columns]"
      ]
     },
     "execution_count": 3,
     "metadata": {},
     "output_type": "execute_result"
    }
   ],
   "source": [
    "ticker = 'FPT'\n",
    "\n",
    "company = Company(symbol = ticker, source = 'VCI')\n",
    "DF = company.shareholders()\n",
    "DF['update_date'] = pd.to_datetime(DF['update_date'])\n",
    "DF"
   ]
  },
  {
   "cell_type": "code",
   "execution_count": 5,
   "id": "9f0e0af7",
   "metadata": {},
   "outputs": [
    {
     "data": {
      "application/vnd.microsoft.datawrangler.viewer.v0+json": {
       "columns": [
        {
         "name": "index",
         "rawType": "int64",
         "type": "integer"
        },
        {
         "name": "share_own_percent",
         "rawType": "float64",
         "type": "float"
        }
       ],
       "ref": "f9d55c2a-d6cc-498c-b0bd-3eb572e3db67",
       "rows": [
        [
         "0",
         "0.0689"
        ],
        [
         "1",
         "0.0567"
        ],
        [
         "9",
         "0.0148"
        ],
        [
         "10",
         "0.0147"
        ],
        [
         "20",
         "0.0093"
        ],
        [
         "24",
         "0.0071408"
        ],
        [
         "31",
         "0.0044"
        ],
        [
         "33",
         "0.0036"
        ],
        [
         "34",
         "0.0032"
        ],
        [
         "36",
         "0.0024"
        ],
        [
         "40",
         "0.0017"
        ],
        [
         "41",
         "0.0017"
        ],
        [
         "46",
         "0.001"
        ],
        [
         "49",
         "0.0007"
        ],
        [
         "50",
         "0.0007"
        ],
        [
         "51",
         "0.00066"
        ],
        [
         "55",
         "0.0006"
        ],
        [
         "56",
         "0.0006"
        ],
        [
         "60",
         "0.0003"
        ],
        [
         "72",
         "0.0001"
        ],
        [
         "80",
         "5.4e-06"
        ]
       ],
       "shape": {
        "columns": 1,
        "rows": 21
       }
      },
      "text/plain": [
       "0     0.068900\n",
       "1     0.056700\n",
       "9     0.014800\n",
       "10    0.014700\n",
       "20    0.009300\n",
       "24    0.007141\n",
       "31    0.004400\n",
       "33    0.003600\n",
       "34    0.003200\n",
       "36    0.002400\n",
       "40    0.001700\n",
       "41    0.001700\n",
       "46    0.001000\n",
       "49    0.000700\n",
       "50    0.000700\n",
       "51    0.000660\n",
       "55    0.000600\n",
       "56    0.000600\n",
       "60    0.000300\n",
       "72    0.000100\n",
       "80    0.000005\n",
       "Name: share_own_percent, dtype: float64"
      ]
     },
     "execution_count": 5,
     "metadata": {},
     "output_type": "execute_result"
    }
   ],
   "source": [
    "newest = DF.sort_values('update_date',ascending=False).iloc[0,-1]\n",
    "DF[DF.update_date == newest].share_own_percent"
   ]
  },
  {
   "cell_type": "code",
   "execution_count": null,
   "id": "8e76cca4",
   "metadata": {},
   "outputs": [
    {
     "name": "stdout",
     "output_type": "stream",
     "text": [
      "Initialized empty Git repository in C:/Users/phuongnm/OneDrive - Kafi Securities Corporation/Documents/Desktop/VSCode_workspace/Main Finance/.git/\n",
      "[master (root-commit) f0477f7] first commit\n",
      " 1 file changed, 1 insertion(+)\n",
      " create mode 100644 README.md\n",
      "branch 'main' set up to track 'origin/main'.\n"
     ]
    },
    {
     "name": "stderr",
     "output_type": "stream",
     "text": [
      "To https://github.com/minhphuongngo2003-main/Work-Laptop.git\n",
      " * [new branch]      main -> main\n"
     ]
    }
   ],
   "source": [
    "git remote add origin https://github.com/minhphuongngo2003-main/Work-Laptop.git\n",
    "git branch -M main\n",
    "git push -u origin main"
   ]
  }
 ],
 "metadata": {
  "kernelspec": {
   "display_name": "Python 3",
   "language": "python",
   "name": "python3"
  },
  "language_info": {
   "codemirror_mode": {
    "name": "ipython",
    "version": 3
   },
   "file_extension": ".py",
   "mimetype": "text/x-python",
   "name": "python",
   "nbconvert_exporter": "python",
   "pygments_lexer": "ipython3",
   "version": "3.11.9"
  }
 },
 "nbformat": 4,
 "nbformat_minor": 5
}
